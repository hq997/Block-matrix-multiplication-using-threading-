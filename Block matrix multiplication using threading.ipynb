{
 "cells": [
  {
   "cell_type": "markdown",
   "metadata": {},
   "source": [
    "## Block matrix multiplication using threading"
   ]
  },
  {
   "cell_type": "code",
   "execution_count": 1,
   "metadata": {},
   "outputs": [],
   "source": [
    "import numpy as np\n",
    "import time\n"
   ]
  },
  {
   "cell_type": "markdown",
   "metadata": {},
   "source": [
    "#### This code is for helping you "
   ]
  },
  {
   "cell_type": "code",
   "execution_count": 2,
   "metadata": {},
   "outputs": [],
   "source": [
    "\"\"\"\n",
    "   Create a matrix with size mxn- Return random integers from `low`=-100 `high`=100.\n",
    "   :param m: number of rows\n",
    "   :param n:number of columns\n",
    "   :return: generated random matrix \n",
    "\"\"\"\n",
    "np.random.seed=32\n",
    "def createMatrix(m,n):\n",
    "    ## write your code here\n",
    "    return np.random.randint(100,size=(m,n))\n",
    "  \n",
    "\"\"\"\n",
    "Create a matrix with size mxn- Return random integers from `low`=-100 `high`=100.\n",
    "   :param A: Matrix A\n",
    "   :param B:number of columns\n",
    "   :return: C: Matrix multiplication of A and B\n",
    "\"\"\"\n",
    "def multiplyMatrices(A,B):\n",
    "    r, c=A.shape\n",
    "    r1,c1=B.shape\n",
    "    C=np.empty((r,c1))\n",
    "    np.matmul\n",
    "    for i in range(r): \n",
    "        for j in range(c): \n",
    "            for k in range(c): \n",
    "                C[i][j] += A[i][k] * B[k][j]\n",
    "    return C\n",
    "\n",
    "\"\"\"\n",
    "This method aims to check if the multiplication result using threading and blocks is equal to multiplication \n",
    "result using np.matmul\n",
    "   :param C1: is matrix which is the results of AxB using block multiplciaton\n",
    "   :param C2:is matrix which is the results of AxB using np.matmul to validate our solution\n",
    "\"\"\"\n",
    "def check_the_solution(C1,C2):\n",
    "    \n",
    "    anw=np.abs(np.sum(C2-C1))\n",
    "    print(anw)\n",
    "    if anw==0:\n",
    "        print('answer is correct')\n",
    "    else:\n",
    "        print('answer is wrong')"
   ]
  },
  {
   "cell_type": "code",
   "execution_count": 3,
   "metadata": {},
   "outputs": [
    {
     "name": "stdout",
     "output_type": "stream",
     "text": [
      "0.0\n",
      "answer is correct\n"
     ]
    }
   ],
   "source": [
    "AA=createMatrix(4,4)\n",
    "BB=createMatrix(4,4)\n",
    "CC1=multiplyMatrices(AA,BB)\n",
    "CC2=np.matmul(AA,BB)\n",
    "DD=check_the_solution(CC1,CC2)"
   ]
  },
  {
   "cell_type": "code",
   "execution_count": 4,
   "metadata": {},
   "outputs": [
    {
     "name": "stdout",
     "output_type": "stream",
     "text": [
      "195.19839763641357\n"
     ]
    }
   ],
   "source": [
    "n_rows=300\n",
    "AA=createMatrix(n_rows,n_rows)\n",
    "BB=createMatrix(n_rows,n_rows)\n",
    "t1=time.time()\n",
    "CC=multiplyMatrices(AA,BB)\n",
    "t2=time.time()\n",
    "print(t2-t1)"
   ]
  },
  {
   "cell_type": "code",
   "execution_count": 5,
   "metadata": {},
   "outputs": [],
   "source": [
    "import threading \n",
    "\n",
    "import time"
   ]
  },
  {
   "cell_type": "markdown",
   "metadata": {},
   "source": [
    "### 1- create a matrix class that contains all information about the matrix + the function of releasing the threads"
   ]
  },
  {
   "cell_type": "code",
   "execution_count": 6,
   "metadata": {},
   "outputs": [],
   "source": [
    "\"\"\"\n",
    "Matrix class aims to manage all whole block multiplication \n",
    "\"\"\"\n",
    "class Matrix:\n",
    "\n",
    "    \"\"\" \n",
    "    Constructor\n",
    "    A: Matrix A -- Squared matrix\n",
    "    B:Matrix B -- Squared matrix\n",
    "    param no_of_blocks -- Number of blocks  assume that the number of blocks are same in rows and columnsas well as A and B are squared matirces\n",
    "    \"\"\"\n",
    "\n",
    "    def __init__(self, A ,B ,no_of_blocks):\n",
    "\n",
    "        self.A= A ### write your code\n",
    "        self.B= B ### write your code\n",
    "        self.block_size= int(A.shape[1]/no_of_blocks) ### write your code\n",
    "        self.no_of_blocks= no_of_blocks ### write your code\n",
    "        \n",
    "        self.blocks=np.empty((no_of_blocks, no_of_blocks), dtype=object)\n",
    "        self.C= np.zeros_like(self.A) ### create matrix of zeros using numpy- write your code \n",
    "    \"\"\"\n",
    "    - Method aims to release the threads, which each thread caclulates one block. \n",
    "    - The result of each block must be cloned to C \n",
    "\n",
    "    \"\"\"\n",
    "    def release_threads(self):\n",
    "        ## release threads === nested loops\n",
    "        for i in range(self.no_of_blocks):\n",
    "          for j in range (self.no_of_blocks):\n",
    "            B1 = Block(i, j, self.block_size, self.A, self.B, self.no_of_blocks)\n",
    "            B1.thread.start()\n",
    "            self.blocks[i][j]=B1 \n",
    "\n",
    "\n",
    "        ## join the threads + return the result of block_C to C   \n",
    "        for i in range(self.no_of_blocks):\n",
    "          for j in range (self.no_of_blocks):\n",
    "            self.C[i*self.block_size: i*self.block_size+self.block_size, j*self.block_size: j*self.block_size+self.block_size]=self.blocks[i][j].block_C\n",
    "\n"
   ]
  },
  {
   "cell_type": "markdown",
   "metadata": {},
   "source": [
    "### 1- Create a class with name Block. This class contains all attributes and methods of block. For example, location of the blocks etc. "
   ]
  },
  {
   "cell_type": "code",
   "execution_count": 7,
   "metadata": {},
   "outputs": [],
   "source": [
    "class Block(object):\n",
    "    \"\"\"\n",
    "    Constructor \n",
    "    id_x: id of block in rows (x axis)\n",
    "    id_y: id of block in colunm (y axis)\n",
    "    block_size: the block size\n",
    "    A: A matrix\n",
    "    B: B matrix\n",
    "    no_of_blocks: number of blocks is needed to copy the blocks\n",
    "    \n",
    "    \"\"\"\n",
    "    def __init__(self, id_x,id_y,block_size, A, B, no_of_blocks):\n",
    "        self.id_x= id_x ### write your code\n",
    "        self.id_y= id_y ### write your code\n",
    "        self.no_of_blocks= no_of_blocks ### write your code\n",
    "        \n",
    "        self.start_row= id_x*block_size ### write your code\n",
    "        self.end_row= self.start_row+block_size  ### write your code\n",
    "        \n",
    "        self.start_column= id_y*block_size### write your code\n",
    "        self.end_column= self.start_column+block_size ### write your code\n",
    "        ##print(self.start_row,self.end_row,self.start_column,self.end_column)\n",
    "        \n",
    "        self.block_size= block_size ### write your code\n",
    "        self.block_C=  np.zeros_like((block_size, block_size)) ### \n",
    "        ## thread varaible to be used in starting the cacluculation of the blocks\n",
    "        self.thread=threading.Thread(target=self.Calculate_block_multiplication,args=(A,B))\n",
    "        \n",
    "    \"\"\"\n",
    "    Method to multiply two matrices \n",
    "    A_block: first matrix\n",
    "    B_block: second matrix\n",
    "    Return the multiplication result of two blocks \n",
    "    \"\"\"\n",
    "    def multiplyMatrices(self,A_block,B_block):\n",
    "     \n",
    "        r, c=A_block.shape\n",
    "        r1,c1=B_block.shape\n",
    "        \n",
    "        assert c==r1, 'number of columns in matrix A must equal to number of rows in matrix B'\n",
    "        block_C=np.empty((r,c1))\n",
    "\n",
    "        for i in range(r): \n",
    "            for j in range(c): \n",
    "                for k in range(c): \n",
    "                    block_C[i][j] += A_block[i][k] * B_block[k][j]\n",
    "\n",
    "        return np.matmul(A_block,B_block)\n",
    "    \n",
    "    \"\"\" \n",
    "    Method aims to copy the block from the original matrix , it requires the id_r and id_c to know which block\n",
    "    param AA: matrix \n",
    "    param i_r, the id of block in rows\n",
    "    param j_c, the id of block in columns\n",
    "    Return the copyed block\n",
    "    \"\"\"\n",
    "    def copy_block_from_matrix(self, AA,i_r, j_c):\n",
    "            ### write your code\n",
    "            self.start_row= i_r*self.block_size\n",
    "            self.end_row= self.start_row+self.block_size\n",
    "            self.start_column= j_c*self.block_size### write your code\n",
    "            self.end_column= self.start_column+self.block_size\n",
    "            return AA[self.start_row:self.end_row, self.start_column:self.end_column]\n",
    "    \"\"\"\n",
    "    Methods aims to copy each two corresponding blocks in A and B through loop- For example\n",
    "    C_Block(0,0)= A_Block(0,0)× B_Block(0,0) + A_Block(0,1)× B_Block(1,0) + A_Block(0,2)× B_Block(2,0) \n",
    "    Therefore, this method makes the following:\n",
    "    1- call copy_block_from_matrix to copy two blocks\n",
    "    2- call multiplyMatrices to multiply two blocks\n",
    "    3- add the result to block_C\n",
    "    \"\"\"\n",
    "    def Calculate_block_multiplication(self,A,B):\n",
    "        print('Thread', self.id_x,self.id_y, ' released')\n",
    "        ## write your code\n",
    "        for i in range(self.no_of_blocks):\n",
    "          A1 = self.copy_block_from_matrix(A, self.id_x, i)\n",
    "          B1 = self.copy_block_from_matrix(B, i, self.id_y)\n",
    "          C1 = self.multiplyMatrices(A1, B1)\n",
    "          self.block_C = np.add(self.block_C, C1)   \n"
   ]
  },
  {
   "cell_type": "markdown",
   "metadata": {},
   "source": [
    "### 2- Apply threading to perform block matrix multiplication, where the matrix size =600x600"
   ]
  },
  {
   "cell_type": "markdown",
   "metadata": {},
   "source": [
    "### 3- Compare the execution-time of different size of blocks "
   ]
  },
  {
   "cell_type": "code",
   "execution_count": null,
   "metadata": {},
   "outputs": [],
   "source": []
  },
  {
   "cell_type": "code",
   "execution_count": 8,
   "metadata": {},
   "outputs": [
    {
     "name": "stdout",
     "output_type": "stream",
     "text": [
      "[[34 71 10 34]\n",
      " [20 71 52 74]\n",
      " [59 78 87  3]\n",
      " [29 91 80 82]]\n",
      "\n",
      "[[ 2 70 65 65]\n",
      " [33 85 48 88]\n",
      " [27 72 61 52]\n",
      " [25 48 74 80]]\n"
     ]
    }
   ],
   "source": [
    "\n",
    "A=createMatrix(4,4)\n",
    "B=createMatrix(4,4)\n",
    "print(A)\n",
    "print()\n",
    "print(B)\n"
   ]
  },
  {
   "cell_type": "code",
   "execution_count": 9,
   "metadata": {},
   "outputs": [
    {
     "name": "stdout",
     "output_type": "stream",
     "text": [
      "Thread 0 0  released\n",
      "Thread 0 1  released\n",
      "Thread 1 0  released\n",
      "Thread 1 1  released\n",
      "\n",
      "\n",
      "[[ 3531 10767]\n",
      " [ 5637 14731]]\n"
     ]
    }
   ],
   "source": [
    "mm=Matrix(A,B,2)\n",
    "mm.release_threads()\n",
    "print()\n",
    "print()\n",
    "print(mm.blocks[0,0].block_C)\n"
   ]
  },
  {
   "cell_type": "code",
   "execution_count": 10,
   "metadata": {},
   "outputs": [
    {
     "name": "stdout",
     "output_type": "stream",
     "text": [
      "[[ 3531 10767  8744 11698]\n",
      " [ 5637 14731 13356 16172]\n",
      " [ 5116 17168 13108 15463]\n",
      " [ 7271 19461 17201 20613]]\n",
      "\n",
      "[[ 3531 10767  8744 11698]\n",
      " [ 5637 14731 13356 16172]\n",
      " [ 5116 17168 13108 15463]\n",
      " [ 7271 19461 17201 20613]]\n"
     ]
    }
   ],
   "source": [
    "C10=np.matmul(mm.A,mm.B)\n",
    "print(C10)\n",
    "print()\n",
    "print(mm.C)"
   ]
  },
  {
   "cell_type": "markdown",
   "metadata": {},
   "source": []
  },
  {
   "cell_type": "code",
   "execution_count": 11,
   "metadata": {},
   "outputs": [
    {
     "name": "stdout",
     "output_type": "stream",
     "text": [
      "0\n",
      "answer is correct\n"
     ]
    }
   ],
   "source": [
    "check_the_solution(C10,mm.C)"
   ]
  }
 ],
 "metadata": {
  "kernelspec": {
   "display_name": "Python 3",
   "language": "python",
   "name": "python3"
  },
  "language_info": {
   "codemirror_mode": {
    "name": "ipython",
    "version": 3
   },
   "file_extension": ".py",
   "mimetype": "text/x-python",
   "name": "python",
   "nbconvert_exporter": "python",
   "pygments_lexer": "ipython3",
   "version": "3.8.8"
  }
 },
 "nbformat": 4,
 "nbformat_minor": 2
}
